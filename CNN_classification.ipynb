{
  "nbformat": 4,
  "nbformat_minor": 0,
  "metadata": {
    "colab": {
      "name": "CNN_classification.ipynb",
      "provenance": []
    },
    "kernelspec": {
      "name": "python3",
      "display_name": "Python 3"
    },
    "language_info": {
      "name": "python"
    }
  },
  "cells": [
    {
      "cell_type": "markdown",
      "metadata": {
        "id": "LSMgLMekd2_D"
      },
      "source": [
        "In this project, I build a CNN model to predict image subject out of 10 classes using cifar dataset"
      ]
    },
    {
      "cell_type": "code",
      "metadata": {
        "id": "W1DtPz9qGiZv"
      },
      "source": [
        "# import libraries\n",
        "\n",
        "# keras imports for the dataset and building our neural network\n",
        "from keras.datasets import cifar10\n",
        "from keras.models import Sequential\n",
        "from keras.layers import Dense, Dropout, Conv2D, MaxPool2D, Flatten\n",
        "from keras.utils import np_utils\n",
        "import tensorflow as tf\n",
        "\n",
        "# to calculate accuracy\n",
        "from sklearn.metrics import accuracy_score\n"
      ],
      "execution_count": 5,
      "outputs": []
    },
    {
      "cell_type": "code",
      "metadata": {
        "colab": {
          "base_uri": "https://localhost:8080/"
        },
        "id": "QujXi5zdIZCU",
        "outputId": "4f3bb5c8-916a-4853-86b2-97a607dfc83e"
      },
      "source": [
        "# load and preprocess the dataset\n",
        "(X_train, y_train), (X_test, y_test) = cifar10.load_data()\n",
        "\n",
        "# building the input vector from the 28x28 pixels\n",
        "X_train = X_train.reshape(X_train.shape[0], 32, 32, 3)\n",
        "X_test = X_test.reshape(X_test.shape[0], 32, 32, 3)\n",
        "X_train = X_train.astype('float32')\n",
        "X_test = X_test.astype('float32')\n",
        "\n",
        "# normalizing the data to help with the training\n",
        "X_train /= 255\n",
        "X_test /= 255\n",
        "\n",
        "# one-hot encoding using keras' numpy-related utilities\n",
        "n_classes = 10\n",
        "print(\"Shape before one-hot encoding: \", y_train.shape)\n",
        "Y_train = np_utils.to_categorical(y_train, n_classes)\n",
        "Y_test = np_utils.to_categorical(y_test, n_classes)\n",
        "print(\"Shape after one-hot encoding: \", Y_train.shape)\n"
      ],
      "execution_count": 6,
      "outputs": [
        {
          "output_type": "stream",
          "text": [
            "Shape before one-hot encoding:  (50000, 1)\n",
            "Shape after one-hot encoding:  (50000, 10)\n"
          ],
          "name": "stdout"
        }
      ]
    },
    {
      "cell_type": "code",
      "metadata": {
        "id": "a6F2AJK0IdLV"
      },
      "source": [
        "# build the model\n",
        "\n",
        "\n",
        "# create EarlyStopping\n",
        "callback = tf.keras.callbacks.EarlyStopping(monitor='loss', patience=3)\n",
        "\n",
        "# building a linear stack of layers with the sequential model\n",
        "model = Sequential()\n",
        "# convolutional layer 1\n",
        "model.add(Conv2D(50, kernel_size=(3,3), strides=(1,1), padding='same', activation='relu', input_shape=(32,32,3)))\n",
        "\n",
        "# convolutional layer 2\n",
        "model.add(Conv2D(75, kernel_size=(3,3), strides=(1,1), padding='same', activation='relu'))\n",
        "model.add(MaxPool2D(pool_size=(2,2)))\n",
        "model.add(Dropout(0.25))\n",
        "\n",
        "# convolutional layer 3\n",
        "model.add(Conv2D(125, kernel_size=(3,3), strides=(1,1), padding='same', activation='relu'))\n",
        "model.add(MaxPool2D(pool_size=(2,2)))\n",
        "model.add(Dropout(0.25))\n",
        "\n",
        "# flatten output of conv\n",
        "model.add(Flatten())\n",
        "# hidden layer\n",
        "model.add(Dense(500, activation='relu'))\n",
        "model.add(Dropout(0.4))\n",
        "model.add(Dense(250, activation='relu'))\n",
        "model.add(Dropout(0.3))\n",
        "\n",
        "# output layer\n",
        "model.add(Dense(10, activation='softmax'))\n",
        "\n",
        "# compiling the sequential model\n",
        "model.compile(loss='categorical_crossentropy', metrics=['accuracy'], optimizer='adam')\n"
      ],
      "execution_count": 7,
      "outputs": []
    },
    {
      "cell_type": "code",
      "metadata": {
        "colab": {
          "base_uri": "https://localhost:8080/"
        },
        "id": "fCO7PukxJAor",
        "outputId": "30bad0ea-19c5-4a8c-8a24-3bdc8d1df662"
      },
      "source": [
        "# train the model\n",
        "model.fit(X_train, Y_train, batch_size=128, epochs=20, validation_data=(X_test, Y_test),callbacks=[callback])"
      ],
      "execution_count": 8,
      "outputs": [
        {
          "output_type": "stream",
          "text": [
            "Epoch 1/20\n",
            "391/391 [==============================] - 449s 1s/step - loss: 1.8572 - accuracy: 0.3112 - val_loss: 1.1462 - val_accuracy: 0.5994\n",
            "Epoch 2/20\n",
            "391/391 [==============================] - 446s 1s/step - loss: 1.1525 - accuracy: 0.5896 - val_loss: 0.8916 - val_accuracy: 0.6935\n",
            "Epoch 3/20\n",
            "391/391 [==============================] - 448s 1s/step - loss: 0.9317 - accuracy: 0.6735 - val_loss: 0.7993 - val_accuracy: 0.7242\n",
            "Epoch 4/20\n",
            "391/391 [==============================] - 448s 1s/step - loss: 0.7925 - accuracy: 0.7221 - val_loss: 0.7461 - val_accuracy: 0.7439\n",
            "Epoch 5/20\n",
            "391/391 [==============================] - 446s 1s/step - loss: 0.7010 - accuracy: 0.7547 - val_loss: 0.6993 - val_accuracy: 0.7595\n",
            "Epoch 6/20\n",
            "391/391 [==============================] - 452s 1s/step - loss: 0.6422 - accuracy: 0.7749 - val_loss: 0.6851 - val_accuracy: 0.7661\n",
            "Epoch 7/20\n",
            "391/391 [==============================] - 449s 1s/step - loss: 0.5825 - accuracy: 0.7951 - val_loss: 0.6593 - val_accuracy: 0.7757\n",
            "Epoch 8/20\n",
            "391/391 [==============================] - 447s 1s/step - loss: 0.5181 - accuracy: 0.8186 - val_loss: 0.6662 - val_accuracy: 0.7758\n",
            "Epoch 9/20\n",
            "391/391 [==============================] - 448s 1s/step - loss: 0.4805 - accuracy: 0.8311 - val_loss: 0.6608 - val_accuracy: 0.7772\n",
            "Epoch 10/20\n",
            "391/391 [==============================] - 447s 1s/step - loss: 0.4377 - accuracy: 0.8449 - val_loss: 0.6531 - val_accuracy: 0.7805\n",
            "Epoch 11/20\n",
            "391/391 [==============================] - 447s 1s/step - loss: 0.4073 - accuracy: 0.8566 - val_loss: 0.6923 - val_accuracy: 0.7775\n",
            "Epoch 12/20\n",
            "391/391 [==============================] - 447s 1s/step - loss: 0.3921 - accuracy: 0.8584 - val_loss: 0.6953 - val_accuracy: 0.7782\n",
            "Epoch 13/20\n",
            "391/391 [==============================] - 445s 1s/step - loss: 0.3638 - accuracy: 0.8723 - val_loss: 0.6625 - val_accuracy: 0.7902\n",
            "Epoch 14/20\n",
            "391/391 [==============================] - 444s 1s/step - loss: 0.3407 - accuracy: 0.8809 - val_loss: 0.6894 - val_accuracy: 0.7850\n",
            "Epoch 15/20\n",
            "391/391 [==============================] - 443s 1s/step - loss: 0.3164 - accuracy: 0.8886 - val_loss: 0.6964 - val_accuracy: 0.7802\n",
            "Epoch 16/20\n",
            "391/391 [==============================] - 444s 1s/step - loss: 0.3079 - accuracy: 0.8938 - val_loss: 0.6882 - val_accuracy: 0.7905\n",
            "Epoch 17/20\n",
            "391/391 [==============================] - 445s 1s/step - loss: 0.2862 - accuracy: 0.9001 - val_loss: 0.7071 - val_accuracy: 0.7821\n",
            "Epoch 18/20\n",
            "391/391 [==============================] - 443s 1s/step - loss: 0.2756 - accuracy: 0.9033 - val_loss: 0.7346 - val_accuracy: 0.7812\n",
            "Epoch 19/20\n",
            "391/391 [==============================] - 444s 1s/step - loss: 0.2721 - accuracy: 0.9054 - val_loss: 0.6907 - val_accuracy: 0.7953\n",
            "Epoch 20/20\n",
            "391/391 [==============================] - 443s 1s/step - loss: 0.2461 - accuracy: 0.9140 - val_loss: 0.7381 - val_accuracy: 0.7872\n"
          ],
          "name": "stdout"
        },
        {
          "output_type": "execute_result",
          "data": {
            "text/plain": [
              "<tensorflow.python.keras.callbacks.History at 0x7f3d566875d0>"
            ]
          },
          "metadata": {
            "tags": []
          },
          "execution_count": 8
        }
      ]
    },
    {
      "cell_type": "code",
      "metadata": {
        "id": "rmkaNw8sJOp7"
      },
      "source": [
        ""
      ],
      "execution_count": null,
      "outputs": []
    }
  ]
}