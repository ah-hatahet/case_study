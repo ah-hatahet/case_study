{
  "nbformat": 4,
  "nbformat_minor": 0,
  "metadata": {
    "colab": {
      "name": "CNN_classification.ipynb",
      "provenance": []
    },
    "kernelspec": {
      "name": "python3",
      "display_name": "Python 3"
    },
    "language_info": {
      "name": "python"
    }
  },
  "cells": [
    {
      "cell_type": "code",
      "metadata": {
        "id": "kP0MEh3-xrho"
      },
      "source": [
        "# In this project, I build a CNN model to predict image subject out of 10 classes using cifar dataset"
      ],
      "execution_count": 15,
      "outputs": []
    },
    {
      "cell_type": "code",
      "metadata": {
        "id": "W1DtPz9qGiZv"
      },
      "source": [
        "# import libraries\n",
        "\n",
        "# keras imports for the dataset and building our neural network\n",
        "from keras.datasets import cifar10\n",
        "from keras.models import Sequential\n",
        "from keras.layers import Dense, Dropout, Conv2D, MaxPool2D, Flatten\n",
        "from keras.utils import np_utils\n",
        "\n",
        "# to calculate accuracy\n",
        "from sklearn.metrics import accuracy_score\n"
      ],
      "execution_count": 10,
      "outputs": []
    },
    {
      "cell_type": "code",
      "metadata": {
        "colab": {
          "base_uri": "https://localhost:8080/"
        },
        "id": "QujXi5zdIZCU",
        "outputId": "e5cac67c-ebd0-41af-e674-7d6c4393fb1e"
      },
      "source": [
        "# load and preprocess the dataset\n",
        "(X_train, y_train), (X_test, y_test) = cifar10.load_data()\n",
        "\n",
        "# building the input vector from the 28x28 pixels\n",
        "X_train = X_train.reshape(X_train.shape[0], 32, 32, 3)\n",
        "X_test = X_test.reshape(X_test.shape[0], 32, 32, 3)\n",
        "X_train = X_train.astype('float32')\n",
        "X_test = X_test.astype('float32')\n",
        "\n",
        "# normalizing the data to help with the training\n",
        "X_train /= 255\n",
        "X_test /= 255\n",
        "\n",
        "# one-hot encoding using keras' numpy-related utilities\n",
        "n_classes = 10\n",
        "print(\"Shape before one-hot encoding: \", y_train.shape)\n",
        "Y_train = np_utils.to_categorical(y_train, n_classes)\n",
        "Y_test = np_utils.to_categorical(y_test, n_classes)\n",
        "print(\"Shape after one-hot encoding: \", Y_train.shape)\n"
      ],
      "execution_count": 11,
      "outputs": [
        {
          "output_type": "stream",
          "text": [
            "Shape before one-hot encoding:  (50000, 1)\n",
            "Shape after one-hot encoding:  (50000, 10)\n"
          ],
          "name": "stdout"
        }
      ]
    },
    {
      "cell_type": "code",
      "metadata": {
        "id": "a6F2AJK0IdLV"
      },
      "source": [
        "# build the model\n",
        "\n",
        "# building a linear stack of layers with the sequential model\n",
        "model = Sequential()\n",
        "# convolutional layer 1\n",
        "model.add(Conv2D(50, kernel_size=(3,3), strides=(1,1), padding='same', activation='relu', input_shape=(32,32,3)))\n",
        "\n",
        "# convolutional layer 2\n",
        "model.add(Conv2D(75, kernel_size=(3,3), strides=(1,1), padding='same', activation='relu'))\n",
        "model.add(MaxPool2D(pool_size=(2,2)))\n",
        "model.add(Dropout(0.25))\n",
        "\n",
        "# convolutional layer 3\n",
        "model.add(Conv2D(125, kernel_size=(3,3), strides=(1,1), padding='same', activation='relu'))\n",
        "model.add(MaxPool2D(pool_size=(2,2)))\n",
        "model.add(Dropout(0.25))\n",
        "\n",
        "# flatten output of conv\n",
        "model.add(Flatten())\n",
        "# hidden layer\n",
        "model.add(Dense(500, activation='relu'))\n",
        "model.add(Dropout(0.4))\n",
        "model.add(Dense(250, activation='relu'))\n",
        "model.add(Dropout(0.3))\n",
        "\n",
        "# output layer\n",
        "model.add(Dense(10, activation='softmax'))\n",
        "\n",
        "# compiling the sequential model\n",
        "model.compile(loss='categorical_crossentropy', metrics=['accuracy'], optimizer='adam')\n"
      ],
      "execution_count": 12,
      "outputs": []
    },
    {
      "cell_type": "code",
      "metadata": {
        "colab": {
          "base_uri": "https://localhost:8080/"
        },
        "id": "fCO7PukxJAor",
        "outputId": "e0efd1f6-20c6-41bc-a555-33052dab7dfe"
      },
      "source": [
        "# train the model\n",
        "model.fit(X_train, Y_train, batch_size=128, epochs=10, validation_data=(X_test, Y_test))"
      ],
      "execution_count": 13,
      "outputs": [
        {
          "output_type": "stream",
          "text": [
            "Epoch 1/10\n",
            "391/391 [==============================] - 530s 1s/step - loss: 1.8565 - accuracy: 0.3056 - val_loss: 1.1600 - val_accuracy: 0.5812\n",
            "Epoch 2/10\n",
            "391/391 [==============================] - 530s 1s/step - loss: 1.1815 - accuracy: 0.5744 - val_loss: 0.9305 - val_accuracy: 0.6741\n",
            "Epoch 3/10\n",
            "391/391 [==============================] - 528s 1s/step - loss: 0.9461 - accuracy: 0.6664 - val_loss: 0.8320 - val_accuracy: 0.7113\n",
            "Epoch 4/10\n",
            "391/391 [==============================] - 527s 1s/step - loss: 0.8201 - accuracy: 0.7116 - val_loss: 0.7442 - val_accuracy: 0.7441\n",
            "Epoch 5/10\n",
            "391/391 [==============================] - 528s 1s/step - loss: 0.7236 - accuracy: 0.7456 - val_loss: 0.7059 - val_accuracy: 0.7580\n",
            "Epoch 6/10\n",
            "391/391 [==============================] - 528s 1s/step - loss: 0.6612 - accuracy: 0.7683 - val_loss: 0.6945 - val_accuracy: 0.7624\n",
            "Epoch 7/10\n",
            "391/391 [==============================] - 528s 1s/step - loss: 0.6103 - accuracy: 0.7881 - val_loss: 0.6757 - val_accuracy: 0.7706\n",
            "Epoch 8/10\n",
            "391/391 [==============================] - 530s 1s/step - loss: 0.5560 - accuracy: 0.8040 - val_loss: 0.6860 - val_accuracy: 0.7653\n",
            "Epoch 9/10\n",
            "391/391 [==============================] - 528s 1s/step - loss: 0.5112 - accuracy: 0.8197 - val_loss: 0.6581 - val_accuracy: 0.7775\n",
            "Epoch 10/10\n",
            "391/391 [==============================] - 529s 1s/step - loss: 0.4859 - accuracy: 0.8271 - val_loss: 0.6665 - val_accuracy: 0.7770\n"
          ],
          "name": "stdout"
        },
        {
          "output_type": "execute_result",
          "data": {
            "text/plain": [
              "<tensorflow.python.keras.callbacks.History at 0x7efcbef4c1d0>"
            ]
          },
          "metadata": {
            "tags": []
          },
          "execution_count": 13
        }
      ]
    },
    {
      "cell_type": "code",
      "metadata": {
        "id": "rmkaNw8sJOp7"
      },
      "source": [
        ""
      ],
      "execution_count": 13,
      "outputs": []
    }
  ]
}